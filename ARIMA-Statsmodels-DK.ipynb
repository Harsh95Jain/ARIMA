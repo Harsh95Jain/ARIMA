{
 "cells": [
  {
   "cell_type": "markdown",
   "metadata": {},
   "source": [
    "# Implementing ARIMA using Statsmodels and Python"
   ]
  },
  {
   "cell_type": "code",
   "execution_count": 1,
   "metadata": {},
   "outputs": [],
   "source": [
    "from matplotlib import pyplot\n",
    "from statsmodels.tsa.arima_model import ARIMA\n",
    "import pandas as pd\n",
    "import numpy as np"
   ]
  },
  {
   "cell_type": "code",
   "execution_count": 2,
   "metadata": {},
   "outputs": [],
   "source": [
    "def parsealldate(x):\n",
    "    return pd.datetime.strptime(x,'%d/%m/%Y')"
   ]
  },
  {
   "cell_type": "code",
   "execution_count": 6,
   "metadata": {},
   "outputs": [
    {
     "data": {
      "text/plain": [
       "date\n",
       "2019-01-01    104.0\n",
       "2019-01-02    110.0\n",
       "2019-01-03    112.0\n",
       "2019-01-04    119.0\n",
       "2019-01-05    121.0\n",
       "Name: sales, dtype: float64"
      ]
     },
     "execution_count": 6,
     "metadata": {},
     "output_type": "execute_result"
    }
   ],
   "source": [
    "data_frame = pd.read_csv('ARIMA-Data.csv', date_parser=parsealldate, parse_dates=[0],index_col=0, squeeze=True,header=0)\n",
    "data_frame.head()"
   ]
  },
  {
   "cell_type": "code",
   "execution_count": 7,
   "metadata": {},
   "outputs": [
    {
     "name": "stdout",
     "output_type": "stream",
     "text": [
      "                             ARIMA Model Results                              \n",
      "==============================================================================\n",
      "Dep. Variable:                    D.y   No. Observations:                  364\n",
      "Model:                 ARIMA(0, 1, 1)   Log Likelihood                 125.266\n",
      "Method:                       css-mle   S.D. of innovations              0.171\n",
      "Date:                Wed, 25 Sep 2019   AIC                           -244.531\n",
      "Time:                        12:53:31   BIC                           -232.840\n",
      "Sample:                             1   HQIC                          -239.884\n",
      "                                                                              \n",
      "==============================================================================\n",
      "                 coef    std err          z      P>|z|      [0.025      0.975]\n",
      "------------------------------------------------------------------------------\n",
      "const          4.4970      0.003   1710.868      0.000       4.492       4.502\n",
      "ma.L1.D.y     -0.7099      0.035    -20.366      0.000      -0.778      -0.642\n",
      "                                    Roots                                    \n",
      "=============================================================================\n",
      "                  Real          Imaginary           Modulus         Frequency\n",
      "-----------------------------------------------------------------------------\n",
      "MA.1            1.4086           +0.0000j            1.4086            0.0000\n",
      "-----------------------------------------------------------------------------\n"
     ]
    }
   ],
   "source": [
    "input_series = np.asarray(data_frame)\n",
    "model_arima = ARIMA(input_series, order=(0,1,1))\n",
    "model_fit = model_arima.fit(disp=0)\n",
    "print(model_fit.summary())"
   ]
  },
  {
   "cell_type": "code",
   "execution_count": null,
   "metadata": {},
   "outputs": [],
   "source": []
  }
 ],
 "metadata": {
  "kernelspec": {
   "display_name": "Python 3",
   "language": "python",
   "name": "python3"
  },
  "language_info": {
   "codemirror_mode": {
    "name": "ipython",
    "version": 3
   },
   "file_extension": ".py",
   "mimetype": "text/x-python",
   "name": "python",
   "nbconvert_exporter": "python",
   "pygments_lexer": "ipython3",
   "version": "3.6.6"
  }
 },
 "nbformat": 4,
 "nbformat_minor": 2
}
